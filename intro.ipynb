{
  "cells": [
    {
      "cell_type": "markdown",
      "metadata": {
        "id": "view-in-github",
        "colab_type": "text"
      },
      "source": [
        "<a href=\"https://colab.research.google.com/github/Ndeechikere/Underactuated-robots/blob/main/intro.ipynb\" target=\"_parent\"><img src=\"https://colab.research.google.com/assets/colab-badge.svg\" alt=\"Open In Colab\"/></a>"
      ]
    },
    {
      "cell_type": "markdown",
      "metadata": {
        "id": "TKvYiJgnYExi"
      },
      "source": [
        "This notebook provides examples to go along with the [textbook](http://underactuated.csail.mit.edu/intro.html).  I recommend having both windows open, side-by-side!\n",
        "\n",
        "[Click here](http://underactuated.csail.mit.edu/drake.html#notebooks) for instructions on how to run the notebook on Deepnote and/or Google Colab."
      ]
    },
    {
      "cell_type": "code",
      "source": [
        "!pip install underactuated"
      ],
      "metadata": {
        "id": "bG7JTqsX-WeA",
        "outputId": "f5477d39-df15-4f29-9b40-2ed25404509d",
        "colab": {
          "base_uri": "https://localhost:8080/"
        }
      },
      "execution_count": 2,
      "outputs": [
        {
          "output_type": "stream",
          "name": "stdout",
          "text": [
            "Collecting underactuated\n",
            "  Downloading underactuated-2022.1.24-py3-none-any.whl (707 kB)\n",
            "\u001b[?25l\r\u001b[K     |▌                               | 10 kB 17.0 MB/s eta 0:00:01\r\u001b[K     |█                               | 20 kB 9.3 MB/s eta 0:00:01\r\u001b[K     |█▍                              | 30 kB 5.3 MB/s eta 0:00:01\r\u001b[K     |█▉                              | 40 kB 5.5 MB/s eta 0:00:01\r\u001b[K     |██▎                             | 51 kB 3.5 MB/s eta 0:00:01\r\u001b[K     |██▉                             | 61 kB 4.1 MB/s eta 0:00:01\r\u001b[K     |███▎                            | 71 kB 4.2 MB/s eta 0:00:01\r\u001b[K     |███▊                            | 81 kB 4.1 MB/s eta 0:00:01\r\u001b[K     |████▏                           | 92 kB 4.5 MB/s eta 0:00:01\r\u001b[K     |████▋                           | 102 kB 4.1 MB/s eta 0:00:01\r\u001b[K     |█████                           | 112 kB 4.1 MB/s eta 0:00:01\r\u001b[K     |█████▋                          | 122 kB 4.1 MB/s eta 0:00:01\r\u001b[K     |██████                          | 133 kB 4.1 MB/s eta 0:00:01\r\u001b[K     |██████▌                         | 143 kB 4.1 MB/s eta 0:00:01\r\u001b[K     |███████                         | 153 kB 4.1 MB/s eta 0:00:01\r\u001b[K     |███████▍                        | 163 kB 4.1 MB/s eta 0:00:01\r\u001b[K     |███████▉                        | 174 kB 4.1 MB/s eta 0:00:01\r\u001b[K     |████████▍                       | 184 kB 4.1 MB/s eta 0:00:01\r\u001b[K     |████████▉                       | 194 kB 4.1 MB/s eta 0:00:01\r\u001b[K     |█████████▎                      | 204 kB 4.1 MB/s eta 0:00:01\r\u001b[K     |█████████▊                      | 215 kB 4.1 MB/s eta 0:00:01\r\u001b[K     |██████████▏                     | 225 kB 4.1 MB/s eta 0:00:01\r\u001b[K     |██████████▋                     | 235 kB 4.1 MB/s eta 0:00:01\r\u001b[K     |███████████▏                    | 245 kB 4.1 MB/s eta 0:00:01\r\u001b[K     |███████████▋                    | 256 kB 4.1 MB/s eta 0:00:01\r\u001b[K     |████████████                    | 266 kB 4.1 MB/s eta 0:00:01\r\u001b[K     |████████████▌                   | 276 kB 4.1 MB/s eta 0:00:01\r\u001b[K     |█████████████                   | 286 kB 4.1 MB/s eta 0:00:01\r\u001b[K     |█████████████▍                  | 296 kB 4.1 MB/s eta 0:00:01\r\u001b[K     |██████████████                  | 307 kB 4.1 MB/s eta 0:00:01\r\u001b[K     |██████████████▍                 | 317 kB 4.1 MB/s eta 0:00:01\r\u001b[K     |██████████████▉                 | 327 kB 4.1 MB/s eta 0:00:01\r\u001b[K     |███████████████▎                | 337 kB 4.1 MB/s eta 0:00:01\r\u001b[K     |███████████████▊                | 348 kB 4.1 MB/s eta 0:00:01\r\u001b[K     |████████████████▏               | 358 kB 4.1 MB/s eta 0:00:01\r\u001b[K     |████████████████▊               | 368 kB 4.1 MB/s eta 0:00:01\r\u001b[K     |█████████████████▏              | 378 kB 4.1 MB/s eta 0:00:01\r\u001b[K     |█████████████████▋              | 389 kB 4.1 MB/s eta 0:00:01\r\u001b[K     |██████████████████              | 399 kB 4.1 MB/s eta 0:00:01\r\u001b[K     |██████████████████▌             | 409 kB 4.1 MB/s eta 0:00:01\r\u001b[K     |███████████████████             | 419 kB 4.1 MB/s eta 0:00:01\r\u001b[K     |███████████████████▌            | 430 kB 4.1 MB/s eta 0:00:01\r\u001b[K     |████████████████████            | 440 kB 4.1 MB/s eta 0:00:01\r\u001b[K     |████████████████████▍           | 450 kB 4.1 MB/s eta 0:00:01\r\u001b[K     |████████████████████▉           | 460 kB 4.1 MB/s eta 0:00:01\r\u001b[K     |█████████████████████▎          | 471 kB 4.1 MB/s eta 0:00:01\r\u001b[K     |█████████████████████▊          | 481 kB 4.1 MB/s eta 0:00:01\r\u001b[K     |██████████████████████▎         | 491 kB 4.1 MB/s eta 0:00:01\r\u001b[K     |██████████████████████▊         | 501 kB 4.1 MB/s eta 0:00:01\r\u001b[K     |███████████████████████▏        | 512 kB 4.1 MB/s eta 0:00:01\r\u001b[K     |███████████████████████▋        | 522 kB 4.1 MB/s eta 0:00:01\r\u001b[K     |████████████████████████        | 532 kB 4.1 MB/s eta 0:00:01\r\u001b[K     |████████████████████████▌       | 542 kB 4.1 MB/s eta 0:00:01\r\u001b[K     |█████████████████████████       | 552 kB 4.1 MB/s eta 0:00:01\r\u001b[K     |█████████████████████████▌      | 563 kB 4.1 MB/s eta 0:00:01\r\u001b[K     |██████████████████████████      | 573 kB 4.1 MB/s eta 0:00:01\r\u001b[K     |██████████████████████████▍     | 583 kB 4.1 MB/s eta 0:00:01\r\u001b[K     |██████████████████████████▉     | 593 kB 4.1 MB/s eta 0:00:01\r\u001b[K     |███████████████████████████▍    | 604 kB 4.1 MB/s eta 0:00:01\r\u001b[K     |███████████████████████████▉    | 614 kB 4.1 MB/s eta 0:00:01\r\u001b[K     |████████████████████████████▎   | 624 kB 4.1 MB/s eta 0:00:01\r\u001b[K     |████████████████████████████▊   | 634 kB 4.1 MB/s eta 0:00:01\r\u001b[K     |█████████████████████████████▏  | 645 kB 4.1 MB/s eta 0:00:01\r\u001b[K     |█████████████████████████████▋  | 655 kB 4.1 MB/s eta 0:00:01\r\u001b[K     |██████████████████████████████▏ | 665 kB 4.1 MB/s eta 0:00:01\r\u001b[K     |██████████████████████████████▋ | 675 kB 4.1 MB/s eta 0:00:01\r\u001b[K     |███████████████████████████████ | 686 kB 4.1 MB/s eta 0:00:01\r\u001b[K     |███████████████████████████████▌| 696 kB 4.1 MB/s eta 0:00:01\r\u001b[K     |████████████████████████████████| 706 kB 4.1 MB/s eta 0:00:01\r\u001b[K     |████████████████████████████████| 707 kB 4.1 MB/s \n",
            "\u001b[?25hRequirement already satisfied: pandas in /usr/local/lib/python3.7/dist-packages (from underactuated) (1.3.5)\n",
            "Requirement already satisfied: torch>=1.6.0 in /usr/local/lib/python3.7/dist-packages (from underactuated) (1.11.0+cu113)\n",
            "Collecting drake>=0.38.0\n",
            "  Downloading drake-1.1.0-cp37-cp37m-manylinux_2_27_x86_64.whl (89.9 MB)\n",
            "\u001b[K     |████████████████████████████████| 89.9 MB 51 kB/s \n",
            "\u001b[?25hCollecting timeout-decorator>=0.4.1\n",
            "  Downloading timeout-decorator-0.5.0.tar.gz (4.8 kB)\n",
            "Requirement already satisfied: pydot>=1.3.0 in /usr/local/lib/python3.7/dist-packages (from underactuated) (1.3.0)\n",
            "Collecting mpld3>=0.5.1\n",
            "  Downloading mpld3-0.5.7-py3-none-any.whl (201 kB)\n",
            "\u001b[K     |████████████████████████████████| 201 kB 37.9 MB/s \n",
            "\u001b[?25hCollecting gradescope-utils>=0.4.0\n",
            "  Downloading gradescope_utils-0.4.0-py2.py3-none-any.whl (5.6 kB)\n",
            "Requirement already satisfied: scipy in /usr/local/lib/python3.7/dist-packages (from drake>=0.38.0->underactuated) (1.4.1)\n",
            "Requirement already satisfied: numpy in /usr/local/lib/python3.7/dist-packages (from drake>=0.38.0->underactuated) (1.21.6)\n",
            "Collecting pygame\n",
            "  Downloading pygame-2.1.2-cp37-cp37m-manylinux_2_17_x86_64.manylinux2014_x86_64.whl (21.8 MB)\n",
            "\u001b[K     |████████████████████████████████| 21.8 MB 1.4 MB/s \n",
            "\u001b[?25hCollecting meshcat\n",
            "  Downloading meshcat-0.3.2-py3-none-any.whl (2.6 MB)\n",
            "\u001b[K     |████████████████████████████████| 2.6 MB 37.0 MB/s \n",
            "\u001b[?25hRequirement already satisfied: PyYAML in /usr/local/lib/python3.7/dist-packages (from drake>=0.38.0->underactuated) (3.13)\n",
            "Requirement already satisfied: matplotlib in /usr/local/lib/python3.7/dist-packages (from drake>=0.38.0->underactuated) (3.2.2)\n",
            "Requirement already satisfied: jinja2 in /usr/local/lib/python3.7/dist-packages (from mpld3>=0.5.1->underactuated) (2.11.3)\n",
            "Requirement already satisfied: pyparsing>=2.1.4 in /usr/local/lib/python3.7/dist-packages (from pydot>=1.3.0->underactuated) (3.0.8)\n",
            "Requirement already satisfied: typing-extensions in /usr/local/lib/python3.7/dist-packages (from torch>=1.6.0->underactuated) (4.2.0)\n",
            "Requirement already satisfied: MarkupSafe>=0.23 in /usr/local/lib/python3.7/dist-packages (from jinja2->mpld3>=0.5.1->underactuated) (2.0.1)\n",
            "Requirement already satisfied: kiwisolver>=1.0.1 in /usr/local/lib/python3.7/dist-packages (from matplotlib->drake>=0.38.0->underactuated) (1.4.2)\n",
            "Requirement already satisfied: cycler>=0.10 in /usr/local/lib/python3.7/dist-packages (from matplotlib->drake>=0.38.0->underactuated) (0.11.0)\n",
            "Requirement already satisfied: python-dateutil>=2.1 in /usr/local/lib/python3.7/dist-packages (from matplotlib->drake>=0.38.0->underactuated) (2.8.2)\n",
            "Requirement already satisfied: six>=1.5 in /usr/local/lib/python3.7/dist-packages (from python-dateutil>=2.1->matplotlib->drake>=0.38.0->underactuated) (1.15.0)\n",
            "Requirement already satisfied: pillow>=7.0.0 in /usr/local/lib/python3.7/dist-packages (from meshcat->drake>=0.38.0->underactuated) (7.1.2)\n",
            "Requirement already satisfied: pyzmq>=17.0.0 in /usr/local/lib/python3.7/dist-packages (from meshcat->drake>=0.38.0->underactuated) (22.3.0)\n",
            "Collecting u-msgpack-python>=2.4.1\n",
            "  Downloading u_msgpack_python-2.7.1-py2.py3-none-any.whl (10.0 kB)\n",
            "Requirement already satisfied: tornado>=4.0.0 in /usr/local/lib/python3.7/dist-packages (from meshcat->drake>=0.38.0->underactuated) (5.1.1)\n",
            "Collecting pyngrok>=4.1.6\n",
            "  Downloading pyngrok-5.1.0.tar.gz (745 kB)\n",
            "\u001b[K     |████████████████████████████████| 745 kB 46.2 MB/s \n",
            "\u001b[?25hRequirement already satisfied: ipython>=5 in /usr/local/lib/python3.7/dist-packages (from meshcat->drake>=0.38.0->underactuated) (5.5.0)\n",
            "Requirement already satisfied: prompt-toolkit<2.0.0,>=1.0.4 in /usr/local/lib/python3.7/dist-packages (from ipython>=5->meshcat->drake>=0.38.0->underactuated) (1.0.18)\n",
            "Requirement already satisfied: decorator in /usr/local/lib/python3.7/dist-packages (from ipython>=5->meshcat->drake>=0.38.0->underactuated) (4.4.2)\n",
            "Requirement already satisfied: traitlets>=4.2 in /usr/local/lib/python3.7/dist-packages (from ipython>=5->meshcat->drake>=0.38.0->underactuated) (5.1.1)\n",
            "Requirement already satisfied: pygments in /usr/local/lib/python3.7/dist-packages (from ipython>=5->meshcat->drake>=0.38.0->underactuated) (2.6.1)\n",
            "Requirement already satisfied: simplegeneric>0.8 in /usr/local/lib/python3.7/dist-packages (from ipython>=5->meshcat->drake>=0.38.0->underactuated) (0.8.1)\n",
            "Requirement already satisfied: pickleshare in /usr/local/lib/python3.7/dist-packages (from ipython>=5->meshcat->drake>=0.38.0->underactuated) (0.7.5)\n",
            "Requirement already satisfied: setuptools>=18.5 in /usr/local/lib/python3.7/dist-packages (from ipython>=5->meshcat->drake>=0.38.0->underactuated) (57.4.0)\n",
            "Requirement already satisfied: pexpect in /usr/local/lib/python3.7/dist-packages (from ipython>=5->meshcat->drake>=0.38.0->underactuated) (4.8.0)\n",
            "Requirement already satisfied: wcwidth in /usr/local/lib/python3.7/dist-packages (from prompt-toolkit<2.0.0,>=1.0.4->ipython>=5->meshcat->drake>=0.38.0->underactuated) (0.2.5)\n",
            "Requirement already satisfied: pytz>=2017.3 in /usr/local/lib/python3.7/dist-packages (from pandas->underactuated) (2022.1)\n",
            "Requirement already satisfied: ptyprocess>=0.5 in /usr/local/lib/python3.7/dist-packages (from pexpect->ipython>=5->meshcat->drake>=0.38.0->underactuated) (0.7.0)\n",
            "Building wheels for collected packages: timeout-decorator, pyngrok\n",
            "  Building wheel for timeout-decorator (setup.py) ... \u001b[?25l\u001b[?25hdone\n",
            "  Created wheel for timeout-decorator: filename=timeout_decorator-0.5.0-py3-none-any.whl size=5028 sha256=69ae5fbf04742662811d80366013abdbe9a5d76cc7374fa71021299bcb4756b0\n",
            "  Stored in directory: /root/.cache/pip/wheels/7d/64/ac/de1dd54f9a6e48b846e9cb5e4176d6f063380e7f83d69807ad\n",
            "  Building wheel for pyngrok (setup.py) ... \u001b[?25l\u001b[?25hdone\n",
            "  Created wheel for pyngrok: filename=pyngrok-5.1.0-py3-none-any.whl size=19007 sha256=41607e679510de23e5bc99357870bf90abea25fd5392015d52685abd1da68cfb\n",
            "  Stored in directory: /root/.cache/pip/wheels/bf/e6/af/ccf6598ecefecd44104069371795cb9b3afbcd16987f6ccfb3\n",
            "Successfully built timeout-decorator pyngrok\n",
            "Installing collected packages: u-msgpack-python, pyngrok, pygame, meshcat, timeout-decorator, mpld3, gradescope-utils, drake, underactuated\n",
            "Successfully installed drake-1.1.0 gradescope-utils-0.4.0 meshcat-0.3.2 mpld3-0.5.7 pygame-2.1.2 pyngrok-5.1.0 timeout-decorator-0.5.0 u-msgpack-python-2.7.1 underactuated-2022.1.24\n"
          ]
        }
      ]
    },
    {
      "cell_type": "code",
      "execution_count": 1,
      "metadata": {
        "colab": {
          "base_uri": "https://localhost:8080/",
          "height": 373
        },
        "id": "A4QOaw_zYLfI",
        "outputId": "3e183a85-afb8-4073-87e0-c919087350d6"
      },
      "outputs": [
        {
          "output_type": "error",
          "ename": "ModuleNotFoundError",
          "evalue": "ignored",
          "traceback": [
            "\u001b[0;31m---------------------------------------------------------------------------\u001b[0m",
            "\u001b[0;31mModuleNotFoundError\u001b[0m                       Traceback (most recent call last)",
            "\u001b[0;32m<ipython-input-1-9462eff7a8c4>\u001b[0m in \u001b[0;36m<module>\u001b[0;34m()\u001b[0m\n\u001b[1;32m      1\u001b[0m \u001b[0;32mimport\u001b[0m \u001b[0mmatplotlib\u001b[0m\u001b[0;34m.\u001b[0m\u001b[0mpyplot\u001b[0m \u001b[0;32mas\u001b[0m \u001b[0mplt\u001b[0m\u001b[0;34m\u001b[0m\u001b[0;34m\u001b[0m\u001b[0m\n\u001b[0;32m----> 2\u001b[0;31m \u001b[0;32mimport\u001b[0m \u001b[0mmpld3\u001b[0m\u001b[0;34m\u001b[0m\u001b[0;34m\u001b[0m\u001b[0m\n\u001b[0m\u001b[1;32m      3\u001b[0m \u001b[0;32mimport\u001b[0m \u001b[0mnumpy\u001b[0m \u001b[0;32mas\u001b[0m \u001b[0mnp\u001b[0m\u001b[0;34m\u001b[0m\u001b[0;34m\u001b[0m\u001b[0m\n\u001b[1;32m      4\u001b[0m \u001b[0;32mfrom\u001b[0m \u001b[0mIPython\u001b[0m\u001b[0;34m.\u001b[0m\u001b[0mdisplay\u001b[0m \u001b[0;32mimport\u001b[0m \u001b[0mMarkdown\u001b[0m\u001b[0;34m,\u001b[0m \u001b[0mdisplay\u001b[0m\u001b[0;34m\u001b[0m\u001b[0;34m\u001b[0m\u001b[0m\n\u001b[1;32m      5\u001b[0m from pydrake.all import (AddMultibodyPlantSceneGraph, DiagramBuilder,\n",
            "\u001b[0;31mModuleNotFoundError\u001b[0m: No module named 'mpld3'",
            "",
            "\u001b[0;31m---------------------------------------------------------------------------\u001b[0;32m\nNOTE: If your import is failing due to a missing package, you can\nmanually install dependencies using either !pip or !apt.\n\nTo view examples of installing some common dependencies, click the\n\"Open Examples\" button below.\n\u001b[0;31m---------------------------------------------------------------------------\u001b[0m\n"
          ],
          "errorDetails": {
            "actions": [
              {
                "action": "open_url",
                "actionText": "Open Examples",
                "url": "/notebooks/snippets/importing_libraries.ipynb"
              }
            ]
          }
        }
      ],
      "source": [
        "import matplotlib.pyplot as plt\n",
        "import mpld3\n",
        "import numpy as np\n",
        "from IPython.display import Markdown, display\n",
        "from pydrake.all import (AddMultibodyPlantSceneGraph, DiagramBuilder,\n",
        "                         LogVectorOutput, MeshcatVisualizerCpp, MultibodyPlant,\n",
        "                         Parser, Simulator, StartMeshcat, ToLatex, Variable,\n",
        "                         VectorSystem)\n",
        "\n",
        "from underactuated import (FindResource, ManipulatorDynamics,\n",
        "                           running_as_notebook)\n",
        "\n",
        "if running_as_notebook:\n",
        "    mpld3.enable_notebook()\n"
      ]
    },
    {
      "cell_type": "code",
      "execution_count": null,
      "metadata": {
        "id": "_N3OJLaH-ST7"
      },
      "outputs": [],
      "source": [
        "# Start the visualizer (run this cell only once, each instance consumes a port)\n",
        "meshcat = StartMeshcat()"
      ]
    },
    {
      "cell_type": "markdown",
      "metadata": {
        "id": "C1sdq2R88C16"
      },
      "source": [
        "# Dynamics of the Double Pendulum\n",
        "\n",
        "This first cell gives an example of how to run a simulation and animate the results.\n"
      ]
    },
    {
      "cell_type": "code",
      "execution_count": null,
      "metadata": {
        "id": "8wj7ZlyEw_AB"
      },
      "outputs": [],
      "source": [
        "def double_pendulum_demo():\n",
        "    # Set up a block diagram with the robot (dynamics) and a visualization block.\n",
        "    builder = DiagramBuilder()\n",
        "    plant, scene_graph = AddMultibodyPlantSceneGraph(builder, time_step=0.0)\n",
        "\n",
        "    # Load the double pendulum from Universal Robot Description Format\n",
        "    parser = Parser(plant, scene_graph)\n",
        "    parser.AddModelFromFile(FindResource(\"models/double_pendulum.urdf\"))\n",
        "    plant.Finalize()\n",
        "\n",
        "    builder.ExportInput(plant.get_actuation_input_port())\n",
        "    MeshcatVisualizerCpp.AddToBuilder(builder, scene_graph, meshcat)\n",
        "    meshcat.Set2dRenderMode(xmin=-2.8, xmax=2.8, ymin=-2.8, ymax=2.8)\n",
        "\n",
        "    logger = LogVectorOutput(plant.get_state_output_port(), builder)\n",
        "\n",
        "    diagram = builder.Build()\n",
        "\n",
        "    # Set up a simulator to run this diagram\n",
        "    simulator = Simulator(diagram)\n",
        "\n",
        "    if running_as_notebook:\n",
        "        simulator.set_target_realtime_rate(1.0)\n",
        "\n",
        "    # Set the initial conditions\n",
        "    context = simulator.get_mutable_context()\n",
        "    context.SetContinuousState([1., 1., 0., 0.])  # (theta1, theta2, theta1dot, theta2dot)\n",
        "    diagram.get_input_port(0).FixValue(context, [0.,0.])   # Zero input torques\n",
        "\n",
        "    # Simulate\n",
        "    simulator.AdvanceTo(10.0)\n",
        "\n",
        "    # Plot the results\n",
        "    plt.figure()\n",
        "    fields = [\"shoulder\", \"elbow\"]\n",
        "    log = logger.FindLog(context)\n",
        "    for i in range(2):\n",
        "        plt.subplot(2, 1, i+1)\n",
        "        plt.plot(log.sample_times(), log.data()[(i, i+2), :].transpose())\n",
        "        plt.legend([\"position\", \"velocity\"])\n",
        "        plt.xlabel('t')\n",
        "        plt.ylabel(fields[i])\n",
        "        plt.grid(True)\n",
        "    display(mpld3.display())\n",
        "\n",
        "double_pendulum_demo()"
      ]
    },
    {
      "cell_type": "markdown",
      "metadata": {
        "id": "gxAIZGbF-ST-"
      },
      "source": [
        "It's worth taking a peek at the [file that describes the robot](https://github.com/RussTedrake/underactuated/blob/master/underactuated/models/double_pendulum.urdf). URDF and SDF are two of the standard formats, and they can be used to describe even very complicated robots (like the Boston Dynamics humanoid).\n",
        "\n",
        "## Inspecting the dynamics (the manipulator equations)\n",
        "\n",
        "We can also use Drake to evaluate the manipulator equations.  First we will evaluate the manipulator equations for a particular robot (with numerical values assigned for mass, link lengths, etc) and for a particular state of the robot.\n"
      ]
    },
    {
      "cell_type": "code",
      "execution_count": null,
      "metadata": {
        "id": "LEZdw2mO-SUA"
      },
      "outputs": [],
      "source": [
        "plant = MultibodyPlant(time_step=0)\n",
        "parser = Parser(plant)\n",
        "parser.AddModelFromFile(FindResource(\"models/double_pendulum.urdf\"))\n",
        "plant.Finalize()\n",
        "\n",
        "# Evaluate the dynamics numerically\n",
        "q = [0.1, 0.1]\n",
        "v = [1, 1]\n",
        "(M, Cv, tauG, B, tauExt) = ManipulatorDynamics(plant, q, v)\n",
        "display(Markdown(\"$M = \" + ToLatex(M, precision=2) + \"$\"))\n",
        "display(Markdown(\"$Cv = \" + ToLatex(Cv, precision=2) + \"$\"))\n",
        "display(Markdown(\"$\\\\tau_G = \" + ToLatex(tauG, precision=2) + \"$\"))\n",
        "display(Markdown(\"$B = \" + ToLatex(B, precision=2) + \"$\"))\n",
        "display(Markdown(\"$\\\\tau_{ext} = \" + ToLatex(tauExt, precision=2) + \"$\"))\n"
      ]
    },
    {
      "cell_type": "markdown",
      "metadata": {
        "id": "8Fru-LmZ-SUC"
      },
      "source": [
        "Drake is also fairly unique in supporting symbolic computation (with floating point coefficients).  Here is an example of printing out the symbolic dynamics of the double pendulum.  (If you've ever written out the equations of your robot, you know they get complicated quickly!)"
      ]
    },
    {
      "cell_type": "code",
      "execution_count": null,
      "metadata": {
        "id": "ZPicXzY7-SUD"
      },
      "outputs": [],
      "source": [
        "# Evaluate the dynamics symbolically\n",
        "q = [Variable(\"\\\\theta_0\"), Variable(\"\\\\theta_1\")]\n",
        "v = [Variable(\"\\\\dot\\\\theta_0\"), Variable(\"\\\\dot\\\\theta_1\")]\n",
        "(M, Cv, tauG, B, tauExt) = ManipulatorDynamics(plant.ToSymbolic(), q, v)\n",
        "display(Markdown(\"$M = \" + ToLatex(M, precision=2) + \"$\"))\n",
        "display(Markdown(\"$Cv = \" + ToLatex(Cv, precision=2) + \"$\"))\n",
        "display(Markdown(\"$\\\\tau_G = \" + ToLatex(tauG, precision=2) + \"$\"))\n",
        "display(Markdown(\"$B = \" + ToLatex(B, precision=2) + \"$\"))\n",
        "display(Markdown(\"$\\\\tau_{ext} = \" + ToLatex(tauExt, precision=2) + \"$\"))\n"
      ]
    },
    {
      "cell_type": "markdown",
      "metadata": {
        "id": "kcsT-rUB-SUG"
      },
      "source": [
        "We use a similar mechanisms to support automatic differentiation; we'll see examples of that soon!"
      ]
    },
    {
      "cell_type": "markdown",
      "metadata": {
        "id": "-tsGXYbP-SUH"
      },
      "source": [
        "# Feedback Cancellation of the Double Pendulum\n",
        "\n",
        "Let's say that we would like our simple double pendulum to act like a\n",
        "simple single pendulum (with damping), whose dynamics are given by:\n",
        "$$\\begin{aligned} \\ddot \\theta_1 &= -\\frac{g}{l}\\sin\\theta_1 -b\\dot\\theta_1 \\\\ \\ddot\\theta_2 &= 0. \\end{aligned}$$\n",
        "\n",
        "This is easily achieved using\n",
        "(Note that our chosen dynamics do not actually stabilize $\\theta_2$ -- this detail was left out for clarity, but would be necessary for any real\n",
        "implementation.) \n",
        "$${\\bf u}  = {\\bf B}^{-1}\\left[ {\\bf C}\\dot{{\\bf q}} - {\\bf \\tau}_g + {\\bf M}\\begin{bmatrix} -\\frac{g}{l}s_1 - b\\dot{q}_1 \\\\ 0 \\end{bmatrix} \\right].$$\n",
        "\n",
        "Since we are embedding a nonlinear dynamics (not a linear one), we refer\n",
        "to this as \"feedback cancellation\", or \"dynamic inversion\".  This idea can,\n",
        "and does, make control look easy - for the special case of a fully-actuated\n",
        "deterministic system with known dynamics.  For example, it would have been\n",
        "just as easy for me to invert gravity. Observe that the control derivations\n",
        "here would not have been any more difficult if the robot had 100 joints.\n",
        "\n",
        "## Acting like a single pendulum\n",
        "\n",
        "First we implement our simple controller as a system that takes the pendulum state in, and outputs the motor torque."
      ]
    },
    {
      "cell_type": "code",
      "execution_count": null,
      "metadata": {
        "id": "9Ah6uyhq-SUH"
      },
      "outputs": [],
      "source": [
        "class Controller(VectorSystem):\n",
        "    \"\"\"Defines a feedback controller for the double pendulum.\n",
        "\n",
        "    The controller applies torques at the joints in order to:\n",
        "\n",
        "    1) cancel out the dynamics of the double pendulum,\n",
        "    2) make the first joint swing with the dynamics of a single pendulum, and\n",
        "    3) drive the second joint towards zero.\n",
        "\n",
        "    The magnitude of gravity for the imposed single pendulum dynamics is taken\n",
        "    as a constructor argument.  So you can do fun things like pretending that\n",
        "    gravity is zero, or even inverting gravity!\n",
        "    \"\"\"\n",
        "\n",
        "    def __init__(self, multibody_plant, gravity):\n",
        "        # 4 inputs (double pend state), 2 torque outputs.\n",
        "        VectorSystem.__init__(self, 4, 2)\n",
        "        self.plant = multibody_plant\n",
        "        self.g = gravity\n",
        "\n",
        "    def DoCalcVectorOutput(self, context, double_pend_state, unused, torque):\n",
        "        # Extract manipulator dynamics.\n",
        "        q = double_pend_state[:2]\n",
        "        v = double_pend_state[-2:]\n",
        "        (M, Cv, tauG, B, tauExt) = ManipulatorDynamics(self.plant, q, v)\n",
        "\n",
        "        # Desired pendulum parameters.\n",
        "        length = 2.\n",
        "        b = .1\n",
        "\n",
        "        # Control gains for stabilizing the second joint.\n",
        "        kp = 1\n",
        "        kd = .1\n",
        "\n",
        "        # Cancel double pend dynamics and inject single pend dynamics.\n",
        "        torque[:] = Cv - tauG - tauExt + M.dot(\n",
        "            [self.g / length * np.sin(q[0]) - b * v[0], -kp * q[1] - kd * v[1]])\n",
        "\n",
        "\n",
        "def simulate(gravity=-9.8):      \n",
        "    builder = DiagramBuilder()\n",
        "    plant, scene_graph = AddMultibodyPlantSceneGraph(builder, time_step=0.0)\n",
        "\n",
        "    # Load the double pendulum from Universal Robot Description Format\n",
        "    parser = Parser(plant, scene_graph)\n",
        "    parser.AddModelFromFile(FindResource(\"models/double_pendulum.urdf\"))\n",
        "    plant.Finalize()\n",
        "\n",
        "    controller = builder.AddSystem(Controller(plant, gravity))\n",
        "    builder.Connect(plant.get_state_output_port(), controller.get_input_port(0))\n",
        "    builder.Connect(controller.get_output_port(0), plant.get_actuation_input_port())\n",
        "\n",
        "    MeshcatVisualizerCpp.AddToBuilder(builder, scene_graph, meshcat)\n",
        "    meshcat.Set2dRenderMode(xmin=-2.8, xmax=2.8, ymin=-2.8, ymax=2.8)\n",
        "\n",
        "    diagram = builder.Build()\n",
        "\n",
        "    # Set up a simulator to run this diagram\n",
        "    simulator = Simulator(diagram)\n",
        "    if running_as_notebook:\n",
        "        simulator.set_target_realtime_rate(1.0)\n",
        "\n",
        "    # Set the initial conditions\n",
        "    context = simulator.get_mutable_context()\n",
        "    context.SetContinuousState((1., 0., 0.2, 0.))  # (θ₁, θ₂, θ̇₁, θ̇₂)\n",
        "\n",
        "    # Simulate\n",
        "    simulator.AdvanceTo(3.0)"
      ]
    },
    {
      "cell_type": "markdown",
      "metadata": {
        "id": "XWsHL4Z--SUI"
      },
      "source": [
        "If we simulate this system with the default parameters (gravity = -9.8m/s), then our double pendulum acts like a single pendulum."
      ]
    },
    {
      "cell_type": "code",
      "execution_count": null,
      "metadata": {
        "id": "sxLE0oMw-SUJ"
      },
      "outputs": [],
      "source": [
        "simulate()"
      ]
    },
    {
      "cell_type": "markdown",
      "metadata": {
        "id": "2UIlSsG6-SUJ"
      },
      "source": [
        "But if we've gone this far, we could have replaced the dynamics with almost anything.  For instance, with a simple change, we can use feedback cancellation to invert gravity!"
      ]
    },
    {
      "cell_type": "code",
      "execution_count": null,
      "metadata": {
        "id": "qg-wBFeI-SUK"
      },
      "outputs": [],
      "source": [
        "simulate(gravity=9.8)"
      ]
    }
  ],
  "metadata": {
    "colab": {
      "collapsed_sections": [],
      "name": "Underactuated Robotics - Introduction.ipynb",
      "provenance": [],
      "toc_visible": true,
      "include_colab_link": true
    },
    "kernelspec": {
      "display_name": "Python 3.6.9 64-bit",
      "language": "python",
      "name": "python3"
    },
    "language_info": {
      "codemirror_mode": {
        "name": "ipython",
        "version": 3
      },
      "file_extension": ".py",
      "mimetype": "text/x-python",
      "name": "python",
      "nbconvert_exporter": "python",
      "pygments_lexer": "ipython3",
      "version": "3.8.10"
    }
  },
  "nbformat": 4,
  "nbformat_minor": 0
}